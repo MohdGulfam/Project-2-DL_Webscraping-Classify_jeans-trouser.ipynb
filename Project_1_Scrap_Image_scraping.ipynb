{
  "nbformat": 4,
  "nbformat_minor": 0,
  "metadata": {
    "colab": {
      "name": "Project-1-Scrap_Image_scraping ",
      "provenance": [],
      "collapsed_sections": []
    },
    "kernelspec": {
      "name": "python3",
      "display_name": "Python 3"
    }
  },
  "cells": [
    {
      "cell_type": "code",
      "metadata": {
        "id": "iQ2LMRVnn8r6",
        "colab": {
          "base_uri": "https://localhost:8080/"
        },
        "outputId": "a3d4c633-94df-4892-d1a1-654f34a66e1b"
      },
      "source": [
        "pip install selenium"
      ],
      "execution_count": null,
      "outputs": [
        {
          "output_type": "stream",
          "text": [
            "Collecting selenium\n",
            "\u001b[?25l  Downloading https://files.pythonhosted.org/packages/80/d6/4294f0b4bce4de0abf13e17190289f9d0613b0a44e5dd6a7f5ca98459853/selenium-3.141.0-py2.py3-none-any.whl (904kB)\n",
            "\r\u001b[K     |▍                               | 10kB 12.1MB/s eta 0:00:01\r\u001b[K     |▊                               | 20kB 17.2MB/s eta 0:00:01\r\u001b[K     |█                               | 30kB 12.4MB/s eta 0:00:01\r\u001b[K     |█▌                              | 40kB 9.0MB/s eta 0:00:01\r\u001b[K     |█▉                              | 51kB 4.4MB/s eta 0:00:01\r\u001b[K     |██▏                             | 61kB 4.9MB/s eta 0:00:01\r\u001b[K     |██▌                             | 71kB 5.1MB/s eta 0:00:01\r\u001b[K     |███                             | 81kB 5.4MB/s eta 0:00:01\r\u001b[K     |███▎                            | 92kB 5.7MB/s eta 0:00:01\r\u001b[K     |███▋                            | 102kB 4.3MB/s eta 0:00:01\r\u001b[K     |████                            | 112kB 4.3MB/s eta 0:00:01\r\u001b[K     |████▍                           | 122kB 4.3MB/s eta 0:00:01\r\u001b[K     |████▊                           | 133kB 4.3MB/s eta 0:00:01\r\u001b[K     |█████                           | 143kB 4.3MB/s eta 0:00:01\r\u001b[K     |█████▍                          | 153kB 4.3MB/s eta 0:00:01\r\u001b[K     |█████▉                          | 163kB 4.3MB/s eta 0:00:01\r\u001b[K     |██████▏                         | 174kB 4.3MB/s eta 0:00:01\r\u001b[K     |██████▌                         | 184kB 4.3MB/s eta 0:00:01\r\u001b[K     |██████▉                         | 194kB 4.3MB/s eta 0:00:01\r\u001b[K     |███████▎                        | 204kB 4.3MB/s eta 0:00:01\r\u001b[K     |███████▋                        | 215kB 4.3MB/s eta 0:00:01\r\u001b[K     |████████                        | 225kB 4.3MB/s eta 0:00:01\r\u001b[K     |████████▎                       | 235kB 4.3MB/s eta 0:00:01\r\u001b[K     |████████▊                       | 245kB 4.3MB/s eta 0:00:01\r\u001b[K     |█████████                       | 256kB 4.3MB/s eta 0:00:01\r\u001b[K     |█████████▍                      | 266kB 4.3MB/s eta 0:00:01\r\u001b[K     |█████████▉                      | 276kB 4.3MB/s eta 0:00:01\r\u001b[K     |██████████▏                     | 286kB 4.3MB/s eta 0:00:01\r\u001b[K     |██████████▌                     | 296kB 4.3MB/s eta 0:00:01\r\u001b[K     |██████████▉                     | 307kB 4.3MB/s eta 0:00:01\r\u001b[K     |███████████▎                    | 317kB 4.3MB/s eta 0:00:01\r\u001b[K     |███████████▋                    | 327kB 4.3MB/s eta 0:00:01\r\u001b[K     |████████████                    | 337kB 4.3MB/s eta 0:00:01\r\u001b[K     |████████████▎                   | 348kB 4.3MB/s eta 0:00:01\r\u001b[K     |████████████▊                   | 358kB 4.3MB/s eta 0:00:01\r\u001b[K     |█████████████                   | 368kB 4.3MB/s eta 0:00:01\r\u001b[K     |█████████████▍                  | 378kB 4.3MB/s eta 0:00:01\r\u001b[K     |█████████████▊                  | 389kB 4.3MB/s eta 0:00:01\r\u001b[K     |██████████████▏                 | 399kB 4.3MB/s eta 0:00:01\r\u001b[K     |██████████████▌                 | 409kB 4.3MB/s eta 0:00:01\r\u001b[K     |██████████████▉                 | 419kB 4.3MB/s eta 0:00:01\r\u001b[K     |███████████████▏                | 430kB 4.3MB/s eta 0:00:01\r\u001b[K     |███████████████▋                | 440kB 4.3MB/s eta 0:00:01\r\u001b[K     |████████████████                | 450kB 4.3MB/s eta 0:00:01\r\u001b[K     |████████████████▎               | 460kB 4.3MB/s eta 0:00:01\r\u001b[K     |████████████████▋               | 471kB 4.3MB/s eta 0:00:01\r\u001b[K     |█████████████████               | 481kB 4.3MB/s eta 0:00:01\r\u001b[K     |█████████████████▍              | 491kB 4.3MB/s eta 0:00:01\r\u001b[K     |█████████████████▊              | 501kB 4.3MB/s eta 0:00:01\r\u001b[K     |██████████████████▏             | 512kB 4.3MB/s eta 0:00:01\r\u001b[K     |██████████████████▌             | 522kB 4.3MB/s eta 0:00:01\r\u001b[K     |██████████████████▉             | 532kB 4.3MB/s eta 0:00:01\r\u001b[K     |███████████████████▏            | 542kB 4.3MB/s eta 0:00:01\r\u001b[K     |███████████████████▋            | 552kB 4.3MB/s eta 0:00:01\r\u001b[K     |████████████████████            | 563kB 4.3MB/s eta 0:00:01\r\u001b[K     |████████████████████▎           | 573kB 4.3MB/s eta 0:00:01\r\u001b[K     |████████████████████▋           | 583kB 4.3MB/s eta 0:00:01\r\u001b[K     |█████████████████████           | 593kB 4.3MB/s eta 0:00:01\r\u001b[K     |█████████████████████▍          | 604kB 4.3MB/s eta 0:00:01\r\u001b[K     |█████████████████████▊          | 614kB 4.3MB/s eta 0:00:01\r\u001b[K     |██████████████████████          | 624kB 4.3MB/s eta 0:00:01\r\u001b[K     |██████████████████████▌         | 634kB 4.3MB/s eta 0:00:01\r\u001b[K     |██████████████████████▉         | 645kB 4.3MB/s eta 0:00:01\r\u001b[K     |███████████████████████▏        | 655kB 4.3MB/s eta 0:00:01\r\u001b[K     |███████████████████████▌        | 665kB 4.3MB/s eta 0:00:01\r\u001b[K     |████████████████████████        | 675kB 4.3MB/s eta 0:00:01\r\u001b[K     |████████████████████████▎       | 686kB 4.3MB/s eta 0:00:01\r\u001b[K     |████████████████████████▋       | 696kB 4.3MB/s eta 0:00:01\r\u001b[K     |█████████████████████████       | 706kB 4.3MB/s eta 0:00:01\r\u001b[K     |█████████████████████████▍      | 716kB 4.3MB/s eta 0:00:01\r\u001b[K     |█████████████████████████▊      | 727kB 4.3MB/s eta 0:00:01\r\u001b[K     |██████████████████████████      | 737kB 4.3MB/s eta 0:00:01\r\u001b[K     |██████████████████████████▍     | 747kB 4.3MB/s eta 0:00:01\r\u001b[K     |██████████████████████████▉     | 757kB 4.3MB/s eta 0:00:01\r\u001b[K     |███████████████████████████▏    | 768kB 4.3MB/s eta 0:00:01\r\u001b[K     |███████████████████████████▌    | 778kB 4.3MB/s eta 0:00:01\r\u001b[K     |████████████████████████████    | 788kB 4.3MB/s eta 0:00:01\r\u001b[K     |████████████████████████████▎   | 798kB 4.3MB/s eta 0:00:01\r\u001b[K     |████████████████████████████▋   | 808kB 4.3MB/s eta 0:00:01\r\u001b[K     |█████████████████████████████   | 819kB 4.3MB/s eta 0:00:01\r\u001b[K     |█████████████████████████████▍  | 829kB 4.3MB/s eta 0:00:01\r\u001b[K     |█████████████████████████████▊  | 839kB 4.3MB/s eta 0:00:01\r\u001b[K     |██████████████████████████████  | 849kB 4.3MB/s eta 0:00:01\r\u001b[K     |██████████████████████████████▍ | 860kB 4.3MB/s eta 0:00:01\r\u001b[K     |██████████████████████████████▉ | 870kB 4.3MB/s eta 0:00:01\r\u001b[K     |███████████████████████████████▏| 880kB 4.3MB/s eta 0:00:01\r\u001b[K     |███████████████████████████████▌| 890kB 4.3MB/s eta 0:00:01\r\u001b[K     |███████████████████████████████▉| 901kB 4.3MB/s eta 0:00:01\r\u001b[K     |████████████████████████████████| 911kB 4.3MB/s \n",
            "\u001b[?25hRequirement already satisfied: urllib3 in /usr/local/lib/python3.6/dist-packages (from selenium) (1.24.3)\n",
            "Installing collected packages: selenium\n",
            "Successfully installed selenium-3.141.0\n"
          ],
          "name": "stdout"
        }
      ]
    },
    {
      "cell_type": "code",
      "metadata": {
        "id": "ntDX436BoD9m"
      },
      "source": [
        "import selenium "
      ],
      "execution_count": null,
      "outputs": []
    },
    {
      "cell_type": "code",
      "metadata": {
        "id": "96oMKTxvMM_-",
        "colab": {
          "base_uri": "https://localhost:8080/"
        },
        "outputId": "8e43dd70-6846-4d7f-fca0-9b41c232bbf0"
      },
      "source": [
        "# you cannot use your local directory here, wait I will show you how to use it\n",
        "!apt-get update"
      ],
      "execution_count": null,
      "outputs": [
        {
          "output_type": "stream",
          "text": [
            "Get:1 https://cloud.r-project.org/bin/linux/ubuntu bionic-cran40/ InRelease [3,626 B]\n",
            "Ign:2 https://developer.download.nvidia.com/compute/cuda/repos/ubuntu1804/x86_64  InRelease\n",
            "Get:3 http://security.ubuntu.com/ubuntu bionic-security InRelease [88.7 kB]\n",
            "Get:4 https://cloud.r-project.org/bin/linux/ubuntu bionic-cran40/ Packages [43.6 kB]\n",
            "Ign:5 https://developer.download.nvidia.com/compute/machine-learning/repos/ubuntu1804/x86_64  InRelease\n",
            "Hit:6 https://developer.download.nvidia.com/compute/cuda/repos/ubuntu1804/x86_64  Release\n",
            "Get:7 https://developer.download.nvidia.com/compute/machine-learning/repos/ubuntu1804/x86_64  Release [564 B]\n",
            "Get:8 http://ppa.launchpad.net/c2d4u.team/c2d4u4.0+/ubuntu bionic InRelease [15.9 kB]\n",
            "Get:9 https://developer.download.nvidia.com/compute/machine-learning/repos/ubuntu1804/x86_64  Release.gpg [833 B]\n",
            "Hit:11 http://archive.ubuntu.com/ubuntu bionic InRelease\n",
            "Get:12 https://developer.download.nvidia.com/compute/machine-learning/repos/ubuntu1804/x86_64  Packages [66.5 kB]\n",
            "Get:13 http://archive.ubuntu.com/ubuntu bionic-updates InRelease [88.7 kB]\n",
            "Hit:14 http://ppa.launchpad.net/cran/libgit2/ubuntu bionic InRelease\n",
            "Get:15 http://ppa.launchpad.net/graphics-drivers/ppa/ubuntu bionic InRelease [21.3 kB]\n",
            "Get:16 http://security.ubuntu.com/ubuntu bionic-security/universe amd64 Packages [1,379 kB]\n",
            "Get:17 http://archive.ubuntu.com/ubuntu bionic-backports InRelease [74.6 kB]\n",
            "Get:18 http://archive.ubuntu.com/ubuntu bionic-updates/multiverse amd64 Packages [45.6 kB]\n",
            "Get:19 http://ppa.launchpad.net/c2d4u.team/c2d4u4.0+/ubuntu bionic/main Sources [1,714 kB]\n",
            "Get:20 http://archive.ubuntu.com/ubuntu bionic-updates/main amd64 Packages [2,309 kB]\n",
            "Get:21 http://security.ubuntu.com/ubuntu bionic-security/main amd64 Packages [1,889 kB]\n",
            "Get:22 http://security.ubuntu.com/ubuntu bionic-security/restricted amd64 Packages [284 kB]\n",
            "Get:23 http://archive.ubuntu.com/ubuntu bionic-updates/universe amd64 Packages [2,146 kB]\n",
            "Get:24 http://archive.ubuntu.com/ubuntu bionic-updates/restricted amd64 Packages [309 kB]\n",
            "Get:25 http://ppa.launchpad.net/c2d4u.team/c2d4u4.0+/ubuntu bionic/main amd64 Packages [877 kB]\n",
            "Get:26 http://ppa.launchpad.net/graphics-drivers/ppa/ubuntu bionic/main amd64 Packages [49.2 kB]\n",
            "Fetched 11.4 MB in 7s (1,718 kB/s)\n",
            "Reading package lists... Done\n"
          ],
          "name": "stdout"
        }
      ]
    },
    {
      "cell_type": "code",
      "metadata": {
        "id": "2hDNi6SbMQah",
        "colab": {
          "base_uri": "https://localhost:8080/"
        },
        "outputId": "36d2347d-a6c3-4481-89a3-53ec2908b3ab"
      },
      "source": [
        "!apt install chromium-chromedriver\n",
        "!cp /usr/lib/chromium-browser/chromedriver /usr/bin\n",
        "import sys\n",
        "\n",
        "sys.path.insert(0,'/usr/lib/chromium-browser/chromedriver')\n"
      ],
      "execution_count": null,
      "outputs": [
        {
          "output_type": "stream",
          "text": [
            "Reading package lists... Done\n",
            "Building dependency tree       \n",
            "Reading state information... Done\n",
            "The following additional packages will be installed:\n",
            "  chromium-browser chromium-browser-l10n chromium-codecs-ffmpeg-extra\n",
            "Suggested packages:\n",
            "  webaccounts-chromium-extension unity-chromium-extension adobe-flashplugin\n",
            "The following NEW packages will be installed:\n",
            "  chromium-browser chromium-browser-l10n chromium-chromedriver\n",
            "  chromium-codecs-ffmpeg-extra\n",
            "0 upgraded, 4 newly installed, 0 to remove and 62 not upgraded.\n",
            "Need to get 81.0 MB of archives.\n",
            "After this operation, 273 MB of additional disk space will be used.\n",
            "Get:1 http://archive.ubuntu.com/ubuntu bionic-updates/universe amd64 chromium-codecs-ffmpeg-extra amd64 87.0.4280.66-0ubuntu0.18.04.1 [1,122 kB]\n",
            "Get:2 http://archive.ubuntu.com/ubuntu bionic-updates/universe amd64 chromium-browser amd64 87.0.4280.66-0ubuntu0.18.04.1 [71.7 MB]\n",
            "Get:3 http://archive.ubuntu.com/ubuntu bionic-updates/universe amd64 chromium-browser-l10n all 87.0.4280.66-0ubuntu0.18.04.1 [3,716 kB]\n",
            "Get:4 http://archive.ubuntu.com/ubuntu bionic-updates/universe amd64 chromium-chromedriver amd64 87.0.4280.66-0ubuntu0.18.04.1 [4,488 kB]\n",
            "Fetched 81.0 MB in 9s (8,991 kB/s)\n",
            "Selecting previously unselected package chromium-codecs-ffmpeg-extra.\n",
            "(Reading database ... 145483 files and directories currently installed.)\n",
            "Preparing to unpack .../chromium-codecs-ffmpeg-extra_87.0.4280.66-0ubuntu0.18.04.1_amd64.deb ...\n",
            "Unpacking chromium-codecs-ffmpeg-extra (87.0.4280.66-0ubuntu0.18.04.1) ...\n",
            "Selecting previously unselected package chromium-browser.\n",
            "Preparing to unpack .../chromium-browser_87.0.4280.66-0ubuntu0.18.04.1_amd64.deb ...\n",
            "Unpacking chromium-browser (87.0.4280.66-0ubuntu0.18.04.1) ...\n",
            "Selecting previously unselected package chromium-browser-l10n.\n",
            "Preparing to unpack .../chromium-browser-l10n_87.0.4280.66-0ubuntu0.18.04.1_all.deb ...\n",
            "Unpacking chromium-browser-l10n (87.0.4280.66-0ubuntu0.18.04.1) ...\n",
            "Selecting previously unselected package chromium-chromedriver.\n",
            "Preparing to unpack .../chromium-chromedriver_87.0.4280.66-0ubuntu0.18.04.1_amd64.deb ...\n",
            "Unpacking chromium-chromedriver (87.0.4280.66-0ubuntu0.18.04.1) ...\n",
            "Setting up chromium-codecs-ffmpeg-extra (87.0.4280.66-0ubuntu0.18.04.1) ...\n",
            "Setting up chromium-browser (87.0.4280.66-0ubuntu0.18.04.1) ...\n",
            "update-alternatives: using /usr/bin/chromium-browser to provide /usr/bin/x-www-browser (x-www-browser) in auto mode\n",
            "update-alternatives: using /usr/bin/chromium-browser to provide /usr/bin/gnome-www-browser (gnome-www-browser) in auto mode\n",
            "Setting up chromium-chromedriver (87.0.4280.66-0ubuntu0.18.04.1) ...\n",
            "Setting up chromium-browser-l10n (87.0.4280.66-0ubuntu0.18.04.1) ...\n",
            "Processing triggers for hicolor-icon-theme (0.17-2) ...\n",
            "Processing triggers for mime-support (3.60ubuntu1) ...\n",
            "Processing triggers for man-db (2.8.3-2ubuntu0.1) ...\n",
            "cp: '/usr/lib/chromium-browser/chromedriver' and '/usr/bin/chromedriver' are the same file\n"
          ],
          "name": "stdout"
        }
      ]
    },
    {
      "cell_type": "code",
      "metadata": {
        "id": "fhva1sE4MTO8",
        "colab": {
          "base_uri": "https://localhost:8080/"
        },
        "outputId": "94219e8c-1191-460e-a038-2cce99562b83"
      },
      "source": [
        "from selenium import webdriver\n",
        "chrome_options = webdriver.ChromeOptions()\n",
        "chrome_options.add_argument('--headless') # let me show you wait\n",
        "chrome_options.add_argument('--no-sandbox')\n",
        "chrome_options.add_argument('--disable-dev-shm-usage')\n",
        "driver = webdriver.Chrome('chromedriver',chrome_options=chrome_options)"
      ],
      "execution_count": null,
      "outputs": [
        {
          "output_type": "stream",
          "text": [
            "/usr/local/lib/python3.6/dist-packages/ipykernel_launcher.py:6: DeprecationWarning: use options instead of chrome_options\n",
            "  \n"
          ],
          "name": "stderr"
        }
      ]
    },
    {
      "cell_type": "code",
      "metadata": {
        "id": "PPC_crljN5yD"
      },
      "source": [
        "import requests as req\n",
        "from selenium import webdriver\n",
        "from bs4 import BeautifulSoup\n",
        "import urllib.request\n",
        "import random\n",
        "import pandas as pd\n",
        "import os \n",
        "\n",
        "# Intializing driver\n",
        "\n",
        "\n",
        "# Initializing required lists to store fetched data\n",
        "#products=[] #List to store name of the product\n",
        "#prices=[] #List to store price of the product\n",
        " #List to store rating of the product\n",
        "Images=[]\n",
        "\n",
        "# URL to fetch from Can be looped over / crawled multiple urls\n",
        "driver.get('https://www.flipkart.com/search?q=trousers+for+men+under+400&sid=clo%2Cvua%2Cmle%2Clhk&as=on&as-show=on&otracker=AS_QueryStore_OrganicAutoSuggest_3_15_na_na_na&otracker1=AS_QueryStore_OrganicAutoSuggest_3_15_na_na_na&as-pos=3&as-type=RECENT&suggestionId=trousers+for+men+under+400%7CMen%27s+Trousers&requestId=6c2ebefa-6d5b-4d43-a87d-51c182f05f2b&as-searchtext=trousers%20for%20me ')\n",
        "\n",
        "content = driver.page_source\n",
        "soup = BeautifulSoup(content)\n",
        "\n",
        "# Parsing content\n",
        "for a in soup.findAll('a',href=True, attrs={'class':'_2UzuFa'}):\n",
        "   \n",
        "    \n",
        "    image=a.find('div', attrs={'class':'_3ywSr_'})\n",
        "    \n",
        "    \n",
        "    Images.append(a.img['src'])\n",
        "    \n",
        "    \n",
        "   \n"
      ],
      "execution_count": null,
      "outputs": []
    },
    {
      "cell_type": "code",
      "metadata": {
        "id": "EIqulGsNmcyu"
      },
      "source": [
        "os.mkdir(\"pro5\")\n",
        "i=1"
      ],
      "execution_count": null,
      "outputs": []
    },
    {
      "cell_type": "code",
      "metadata": {
        "id": "69tW63JdwCEN"
      },
      "source": [
        ""
      ],
      "execution_count": null,
      "outputs": []
    },
    {
      "cell_type": "code",
      "metadata": {
        "id": "DurqeqxgpWnZ"
      },
      "source": [
        "for index,img_link in enumerate(Images):\n",
        "  if i<=101:\n",
        "    img_data=req.get(img_link).content\n",
        "    with open(\"pro5/\"+str(index+1)+'.jpg','wb+') as f:\n",
        "      f.write(img_data)\n",
        "    i+=1\n",
        "  else:\n",
        "    f.close()\n",
        "    break\n",
        "\n"
      ],
      "execution_count": null,
      "outputs": []
    },
    {
      "cell_type": "code",
      "metadata": {
        "id": "XKWLILq_bGWN",
        "colab": {
          "base_uri": "https://localhost:8080/"
        },
        "outputId": "a929c128-afb0-4397-a936-cf99ebdd765f"
      },
      "source": [
        "from google.colab import files\n",
        "#For the folder you have to zip it first and can only download later on\n",
        "!zip  pro5 \n",
        "#Download files\n"
      ],
      "execution_count": null,
      "outputs": [
        {
          "output_type": "stream",
          "text": [
            "\n",
            "zip error: Nothing to do! (pro5.zip)\n"
          ],
          "name": "stdout"
        }
      ]
    },
    {
      "cell_type": "code",
      "metadata": {
        "id": "EQNsVOVshsi5"
      },
      "source": [
        "import requests as req\n",
        "from selenium import webdriver\n",
        "from bs4 import BeautifulSoup\n",
        "import urllib.request\n",
        "import random\n",
        "import pandas as pd\n",
        "import os \n",
        "\n",
        "# Intializing driver\n",
        "\n",
        "\n",
        "# Initializing required lists to store fetched data\n",
        "#products=[] #List to store name of the product\n",
        "#prices=[] #List to store price of the product\n",
        " #List to store rating of the product\n",
        "Images=[]\n",
        "\n",
        "# URL to fetch from Can be looped over / crawled multiple urls\n",
        "driver.get(' https://www.flipkart.com/search?q=jeans&sid=clo%2Cvua%2Ck58%2Ci51&as=on&as-show=on&otracker=AS_QueryStore_OrganicAutoSuggest_1_4_na_na_na&otracker1=AS_QueryStore_OrganicAutoSuggest_1_4_na_na_na&as-pos=1&as-type=RECENT&suggestionId=jeans%7CMen%27s+Jeans&requestId=f9c46bea-56d8-4448-bbfa-e7e388800bf6&as-searchtext=jean')\n",
        "\n",
        "\n",
        "content = driver.page_source\n",
        "soup = BeautifulSoup(content)\n",
        "\n",
        "# Parsing content\n",
        "for a in soup.findAll('a',href=True, attrs={'class':'_3dqZjq'}):\n",
        "   \n",
        "    \n",
        "    image=a.find('div', attrs={'class':'_3ZJShS _31bMyl'})\n",
        "    \n",
        "    \n",
        "    Images.append(a.img['src'])"
      ],
      "execution_count": null,
      "outputs": []
    },
    {
      "cell_type": "code",
      "metadata": {
        "id": "PAAK7SZnhovm"
      },
      "source": [
        "os.mkdir(\"pro1\")\n",
        "i=1"
      ],
      "execution_count": null,
      "outputs": []
    },
    {
      "cell_type": "code",
      "metadata": {
        "id": "x6ZQYz9nlpHQ"
      },
      "source": [
        "for index,img_link in enumerate(Images):\n",
        "  if i<=101:\n",
        "    img_data=req.get(img_link).content\n",
        "    with open(\"pro1/\"+str(index+1)+'.jpg','wb+') as f:\n",
        "      f.write(img_data)\n",
        "    i+=1\n",
        "  else:\n",
        "    f.close()\n",
        "    break\n",
        "\n"
      ],
      "execution_count": null,
      "outputs": []
    },
    {
      "cell_type": "code",
      "metadata": {
        "id": "MN8EsJ0Rl3AI"
      },
      "source": [
        ""
      ],
      "execution_count": null,
      "outputs": []
    }
  ]
}